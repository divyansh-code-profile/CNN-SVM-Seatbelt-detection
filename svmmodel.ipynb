{
  "cells": [
    {
      "cell_type": "code",
      "execution_count": null,
      "metadata": {
        "id": "cTbs9pGAPVMp"
      },
      "outputs": [],
      "source": [
        "\n",
        "\n",
        "import tensorflow as tf\n",
        "from tensorflow.keras.preprocessing.image import ImageDataGenerator\n",
        "from keras.layers import Dropout"
      ]
    },
    {
      "cell_type": "code",
      "execution_count": null,
      "metadata": {
        "colab": {
          "base_uri": "https://localhost:8080/"
        },
        "id": "C-qtlDkpeFj6",
        "outputId": "cee32607-6168-4c69-8c19-fe21078279ae"
      },
      "outputs": [
        {
          "name": "stdout",
          "output_type": "stream",
          "text": [
            "Drive already mounted at /content/drive; to attempt to forcibly remount, call drive.mount(\"/content/drive\", force_remount=True).\n"
          ]
        }
      ],
      "source": [
        "from google.colab import drive\n",
        "drive.mount('/content/drive')"
      ]
    },
    {
      "cell_type": "code",
      "execution_count": null,
      "metadata": {
        "colab": {
          "base_uri": "https://localhost:8080/",
          "height": 35
        },
        "id": "6vU_zoREPaeL",
        "outputId": "5d4433c4-f920-4dbe-a64e-0eca85c76a60"
      },
      "outputs": [
        {
          "data": {
            "application/vnd.google.colaboratory.intrinsic+json": {
              "type": "string"
            },
            "text/plain": [
              "'2.12.0'"
            ]
          },
          "execution_count": 3,
          "metadata": {},
          "output_type": "execute_result"
        }
      ],
      "source": [
        "tf.__version__"
      ]
    },
    {
      "cell_type": "code",
      "execution_count": null,
      "metadata": {
        "id": "eEPm-HcDPoFp"
      },
      "outputs": [],
      "source": [
        "# Part 1 - Data Preprocessing\n",
        "\n",
        "# Preprocessing the Training set\n",
        "train_datagen = ImageDataGenerator(rescale = 1./255,\n",
        "                                   shear_range = 0.2,\n",
        "                                   zoom_range = 0.2,\n",
        "                                   horizontal_flip = True)"
      ]
    },
    {
      "cell_type": "code",
      "execution_count": null,
      "metadata": {
        "colab": {
          "base_uri": "https://localhost:8080/"
        },
        "id": "VdEejrvNPuI-",
        "outputId": "5b9665f4-e58f-4032-f784-07413b010d34"
      },
      "outputs": [
        {
          "name": "stdout",
          "output_type": "stream",
          "text": [
            "Found 895 images belonging to 2 classes.\n",
            "Found 399 images belonging to 2 classes.\n"
          ]
        }
      ],
      "source": [
        "# 70%\n",
        "training_set = train_datagen.flow_from_directory('/content/drive/MyDrive/data/train',\n",
        "                                                 target_size = (64, 64),\n",
        "                                                 batch_size = 32,\n",
        "                                                 class_mode = 'binary')\n",
        "# 20%\n",
        "val_set = val_datagen.flow_from_directory('/content/drive/MyDrive/data/val',\n",
        "                                            target_size = (64, 64),\n",
        "                                            batch_size = 32,\n",
        "                                            class_mode = 'binary')\n",
        "\n",
        "# 10%\n",
        "# Preprocessing the Test set\n",
        "test_datagen = ImageDataGenerator(rescale = 1./255)\n",
        "test_set = test_datagen.flow_from_directory('/content/drive/MyDrive/data/test',\n",
        "                                            target_size = (64, 64),\n",
        "                                            batch_size = 32,\n",
        "                                            class_mode = 'binary')\n"
      ]
    },
    {
      "cell_type": "code",
      "execution_count": null,
      "metadata": {
        "id": "VHjjNmrsPz5E"
      },
      "outputs": [],
      "source": [
        "from tensorflow.keras.layers import Conv2D\n",
        "from tensorflow.keras.layers import Dense"
      ]
    },
    {
      "cell_type": "code",
      "execution_count": null,
      "metadata": {
        "id": "RujSKikPP7Gj"
      },
      "outputs": [],
      "source": [
        "from tensorflow.keras.regularizers import l2"
      ]
    },
    {
      "cell_type": "code",
      "execution_count": null,
      "metadata": {
        "id": "4KT7iBkhQAuC"
      },
      "outputs": [],
      "source": [
        "\n",
        "# Initialising the CNN\n",
        "cnn = tf.keras.models.Sequential()\n",
        "\n",
        "# Step 1 - Convolution\n",
        "cnn.add(tf.keras.layers.Conv2D(filters=32,padding=\"same\",kernel_size=3, activation='relu', strides=2, input_shape=[64, 64, 3]))\n",
        "\n",
        "# Step 2 - Pooling\n",
        "cnn.add(tf.keras.layers.MaxPool2D(pool_size=2, strides=2))\n",
        "\n",
        "# Adding a second convolutional layer\n",
        "cnn.add(tf.keras.layers.Conv2D(filters=32,padding='same',kernel_size=3, activation='relu'))\n",
        "cnn.add(tf.keras.layers.MaxPool2D(pool_size=2, strides=2))\n",
        "\n",
        "# Step 3 - Flattening\n",
        "cnn.add(tf.keras.layers.Flatten())\n",
        "cnn.add(Dropout(0.5))\n",
        "\n",
        "# Step 4 - Full Connection\n",
        "cnn.add(tf.keras.layers.Dense(units=128, activation='relu'))\n",
        "# Step 5 - Output Layer\n",
        "cnn.add(Dropout(0.5))\n",
        "\n",
        "## For Binary Classification\n",
        "cnn.add(Dense(1, kernel_regularizer=tf.keras.regularizers.l2(0.01),activation\n",
        "             ='linear'))"
      ]
    },
    {
      "cell_type": "code",
      "execution_count": null,
      "metadata": {
        "colab": {
          "base_uri": "https://localhost:8080/"
        },
        "id": "cS1gWPNVQkcC",
        "outputId": "94bddcd2-dfb1-4d2f-b730-57c6f35aaa96"
      },
      "outputs": [
        {
          "name": "stdout",
          "output_type": "stream",
          "text": [
            "Model: \"sequential\"\n",
            "_________________________________________________________________\n",
            " Layer (type)                Output Shape              Param #   \n",
            "=================================================================\n",
            " conv2d (Conv2D)             (None, 32, 32, 32)        896       \n",
            "                                                                 \n",
            " max_pooling2d (MaxPooling2D  (None, 16, 16, 32)       0         \n",
            " )                                                               \n",
            "                                                                 \n",
            " conv2d_1 (Conv2D)           (None, 16, 16, 32)        9248      \n",
            "                                                                 \n",
            " max_pooling2d_1 (MaxPooling  (None, 8, 8, 32)         0         \n",
            " 2D)                                                             \n",
            "                                                                 \n",
            " flatten (Flatten)           (None, 2048)              0         \n",
            "                                                                 \n",
            " dropout (Dropout)           (None, 2048)              0         \n",
            "                                                                 \n",
            " dense (Dense)               (None, 128)               262272    \n",
            "                                                                 \n",
            " dropout_1 (Dropout)         (None, 128)               0         \n",
            "                                                                 \n",
            " dense_1 (Dense)             (None, 1)                 129       \n",
            "                                                                 \n",
            "=================================================================\n",
            "Total params: 272,545\n",
            "Trainable params: 272,545\n",
            "Non-trainable params: 0\n",
            "_________________________________________________________________\n"
          ]
        }
      ],
      "source": [
        "cnn.summary()"
      ]
    },
    {
      "cell_type": "code",
      "execution_count": null,
      "metadata": {
        "colab": {
          "base_uri": "https://localhost:8080/"
        },
        "id": "G-WYdgibQm3_",
        "outputId": "854713ed-0535-4916-bf09-0cae525d2dda"
      },
      "outputs": [
        {
          "name": "stdout",
          "output_type": "stream",
          "text": [
            "Epoch 1/20\n",
            "28/28 [==============================] - 8s 222ms/step - loss: 0.0232 - accuracy: 0.9877 - val_loss: 0.1391 - val_accuracy: 0.9298\n",
            "Epoch 2/20\n",
            "28/28 [==============================] - 5s 165ms/step - loss: 0.0258 - accuracy: 0.9888 - val_loss: 0.1053 - val_accuracy: 0.9524\n",
            "Epoch 3/20\n",
            "28/28 [==============================] - 4s 160ms/step - loss: 0.0322 - accuracy: 0.9877 - val_loss: 0.0836 - val_accuracy: 0.9549\n",
            "Epoch 4/20\n",
            "28/28 [==============================] - 5s 191ms/step - loss: 0.0284 - accuracy: 0.9877 - val_loss: 0.0530 - val_accuracy: 0.9724\n",
            "Epoch 5/20\n",
            "28/28 [==============================] - 6s 214ms/step - loss: 0.0298 - accuracy: 0.9888 - val_loss: 0.0918 - val_accuracy: 0.9499\n",
            "Epoch 6/20\n",
            "28/28 [==============================] - 5s 166ms/step - loss: 0.0256 - accuracy: 0.9911 - val_loss: 0.1229 - val_accuracy: 0.9373\n",
            "Epoch 7/20\n",
            "28/28 [==============================] - 5s 188ms/step - loss: 0.0403 - accuracy: 0.9866 - val_loss: 0.2033 - val_accuracy: 0.8997\n",
            "Epoch 8/20\n",
            "28/28 [==============================] - 5s 167ms/step - loss: 0.0271 - accuracy: 0.9877 - val_loss: 0.1066 - val_accuracy: 0.9524\n",
            "Epoch 9/20\n",
            "28/28 [==============================] - 5s 180ms/step - loss: 0.0181 - accuracy: 0.9933 - val_loss: 0.0796 - val_accuracy: 0.9549\n",
            "Epoch 10/20\n",
            "28/28 [==============================] - 5s 162ms/step - loss: 0.0248 - accuracy: 0.9911 - val_loss: 0.1497 - val_accuracy: 0.9223\n",
            "Epoch 11/20\n",
            "28/28 [==============================] - 5s 161ms/step - loss: 0.0302 - accuracy: 0.9899 - val_loss: 0.0806 - val_accuracy: 0.9599\n",
            "Epoch 12/20\n",
            "28/28 [==============================] - 5s 196ms/step - loss: 0.0261 - accuracy: 0.9888 - val_loss: 0.1371 - val_accuracy: 0.9398\n",
            "Epoch 13/20\n",
            "28/28 [==============================] - 5s 162ms/step - loss: 0.0222 - accuracy: 0.9933 - val_loss: 0.1801 - val_accuracy: 0.9173\n",
            "Epoch 14/20\n",
            "28/28 [==============================] - 6s 224ms/step - loss: 0.0443 - accuracy: 0.9832 - val_loss: 0.0530 - val_accuracy: 0.9699\n",
            "Epoch 15/20\n",
            "28/28 [==============================] - 4s 161ms/step - loss: 0.0285 - accuracy: 0.9911 - val_loss: 0.0895 - val_accuracy: 0.9574\n",
            "Epoch 16/20\n",
            "28/28 [==============================] - 5s 194ms/step - loss: 0.0223 - accuracy: 0.9944 - val_loss: 0.1660 - val_accuracy: 0.9273\n",
            "Epoch 17/20\n",
            "28/28 [==============================] - 5s 171ms/step - loss: 0.0215 - accuracy: 0.9944 - val_loss: 0.0857 - val_accuracy: 0.9574\n",
            "Epoch 18/20\n",
            "28/28 [==============================] - 5s 172ms/step - loss: 0.0264 - accuracy: 0.9899 - val_loss: 0.0953 - val_accuracy: 0.9574\n",
            "Epoch 19/20\n",
            "28/28 [==============================] - 4s 160ms/step - loss: 0.0295 - accuracy: 0.9877 - val_loss: 0.2740 - val_accuracy: 0.8722\n",
            "Epoch 20/20\n",
            "28/28 [==============================] - 5s 193ms/step - loss: 0.0217 - accuracy: 0.9933 - val_loss: 0.0951 - val_accuracy: 0.9624\n"
          ]
        }
      ],
      "source": [
        "# Part 3 - Training the CNN\n",
        "\n",
        "# Compiling the CNN\n",
        "cnn.compile(optimizer = 'adam', loss = 'hinge', metrics = ['accuracy'])\n",
        "\n",
        "# Training the CNN on the Training set and evaluating it on the Test set\n",
        "r=cnn.fit(x = training_set, validation_data = val_set, epochs = 20)"
      ]
    },
    {
      "cell_type": "code",
      "execution_count": null,
      "metadata": {
        "colab": {
          "base_uri": "https://localhost:8080/",
          "height": 860
        },
        "id": "YeWI3mlHQ4G8",
        "outputId": "3215c3b2-b6e0-4714-8887-ce43b028830a"
      },
      "outputs": [
        {
          "data": {
            "image/png": "[encoded data removed]",
            "text/plain": [
              "<Figure size 640x480 with 1 Axes>"
            ]
          },
          "metadata": {},
          "output_type": "display_data"
        },
        {
          "data": {
            "image/png": "[encoded data removed]",
            "text/plain": [
              "<Figure size 640x480 with 1 Axes>"
            ]
          },
          "metadata": {},
          "output_type": "display_data"
        },
        {
          "data": {
            "text/plain": [
              "<Figure size 640x480 with 0 Axes>"
            ]
          },
          "metadata": {},
          "output_type": "display_data"
        }
      ],
      "source": [
        "# plot the loss\n",
        "import matplotlib.pyplot as plt\n",
        "plt.plot(r.history['loss'], label='train loss')\n",
        "plt.plot(r.history['val_loss'], label='val loss')\n",
        "plt.legend()\n",
        "plt.show()\n",
        "plt.savefig('LossVal_loss')\n",
        "\n",
        "# plot the accuracy\n",
        "plt.plot(r.history['accuracy'], label='train acc')\n",
        "plt.plot(r.history['val_accuracy'], label='val acc')\n",
        "plt.legend()\n",
        "plt.show()\n",
        "plt.savefig('AccVal_acc')"
      ]
    },
    {
      "cell_type": "code",
      "execution_count": null,
      "metadata": {
        "colab": {
          "base_uri": "https://localhost:8080/"
        },
        "id": "5R89XznVtJqc",
        "outputId": "c76603b0-9bc6-4cd4-a9ff-d3895b76585e"
      },
      "outputs": [
        {
          "data": {
            "text/plain": [
              "<keras.metrics.accuracy_metrics.BinaryAccuracy at 0x7f000a9fde40>"
            ]
          },
          "execution_count": 12,
          "metadata": {},
          "output_type": "execute_result"
        }
      ],
      "source": [
        "cnn.compile(optimizer='adam',\n",
        "              loss='mse',\n",
        "              metrics=[tf.keras.metrics.Accuracy()])\n",
        "tf.keras.metrics.BinaryAccuracy(\n",
        "    name=\"binary_accuracy\", dtype=None, threshold=0.5\n",
        ")"
      ]
    },
    {
      "cell_type": "code",
      "execution_count": null,
      "metadata": {
        "id": "zmb3XQ3OCnho"
      },
      "outputs": [],
      "source": [
        "from keras.models import Sequential\n",
        "from keras.layers import Conv2D, MaxPooling2D, Dense, Dropout, Flatten\n",
        "from keras.optimizers import Adam\n",
        "from keras.preprocessing.image import ImageDataGenerator\n",
        "\n",
        "model_json = cnn.to_json()\n",
        "with open(\"seatbelt.json\", \"w\") as json_file:\n",
        "    json_file.write(model_json)\n",
        "\n",
        "cnn.save_weights('seatbelt.h5')"
      ]
    },
    {
      "cell_type": "code",
      "execution_count": null,
      "metadata": {
        "colab": {
          "base_uri": "https://localhost:8080/",
          "height": 868
        },
        "id": "Cg9CBLbExvpl",
        "outputId": "7c07a8e1-5883-4ea8-9e93-247fd85fb18a"
      },
      "outputs": [
        {
          "name": "stdout",
          "output_type": "stream",
          "text": [
            "Loaded model from disk\n",
            "Found 399 images belonging to 2 classes.\n"
          ]
        },
        {
          "name": "stderr",
          "output_type": "stream",
          "text": [
            "<ipython-input-14-20deb23d181d>:32: UserWarning: `Model.predict_generator` is deprecated and will be removed in a future version. Please use `Model.predict`, which supports generators.\n",
            "  predictions = emotion_model.predict_generator(test_generator)\n"
          ]
        },
        {
          "name": "stdout",
          "output_type": "stream",
          "text": [
            "-----------------------------------------------------------------\n",
            "[[ 33   0]\n",
            " [366   0]]\n"
          ]
        },
        {
          "data": {
            "image/png": "[encoded data removed]",
            "text/plain": [
              "<Figure size 640x480 with 2 Axes>"
            ]
          },
          "metadata": {},
          "output_type": "display_data"
        },
        {
          "name": "stdout",
          "output_type": "stream",
          "text": [
            "-----------------------------------------------------------------\n",
            "              precision    recall  f1-score   support\n",
            "\n",
            "           0       0.08      1.00      0.15        33\n",
            "           1       0.00      0.00      0.00       366\n",
            "\n",
            "    accuracy                           0.08       399\n",
            "   macro avg       0.04      0.50      0.08       399\n",
            "weighted avg       0.01      0.08      0.01       399\n",
            "\n"
          ]
        },
        {
          "name": "stderr",
          "output_type": "stream",
          "text": [
            "/usr/local/lib/python3.10/dist-packages/sklearn/metrics/_classification.py:1344: UndefinedMetricWarning: Precision and F-score are ill-defined and being set to 0.0 in labels with no predicted samples. Use `zero_division` parameter to control this behavior.\n",
            "  _warn_prf(average, modifier, msg_start, len(result))\n",
            "/usr/local/lib/python3.10/dist-packages/sklearn/metrics/_classification.py:1344: UndefinedMetricWarning: Precision and F-score are ill-defined and being set to 0.0 in labels with no predicted samples. Use `zero_division` parameter to control this behavior.\n",
            "  _warn_prf(average, modifier, msg_start, len(result))\n",
            "/usr/local/lib/python3.10/dist-packages/sklearn/metrics/_classification.py:1344: UndefinedMetricWarning: Precision and F-score are ill-defined and being set to 0.0 in labels with no predicted samples. Use `zero_division` parameter to control this behavior.\n",
            "  _warn_prf(average, modifier, msg_start, len(result))\n"
          ]
        }
      ],
      "source": [
        "\n",
        "import numpy as np\n",
        "from keras.models import model_from_json\n",
        "import matplotlib.pyplot as plt\n",
        "from keras.preprocessing.image import ImageDataGenerator\n",
        "from sklearn.metrics import confusion_matrix, classification_report,ConfusionMatrixDisplay\n",
        "\n",
        "\n",
        "emotion_dict = {0: \"no seatbelt\", 1: \"seat_belt\"}\n",
        "\n",
        "# load json and create model\n",
        "json_file = open('seatbelt.json', 'r')\n",
        "loaded_model_json = json_file.read()\n",
        "json_file.close()\n",
        "emotion_model = model_from_json(loaded_model_json)\n",
        "\n",
        "# load weights into new model\n",
        "emotion_model.load_weights(\"seatbelt.h5\")\n",
        "print(\"Loaded model from disk\")\n",
        "\n",
        "# Initialize image data generator with rescaling\n",
        "test_data_gen = ImageDataGenerator(rescale=1./255)\n",
        "\n",
        "# Preprocess all test images\n",
        "test_generator = test_data_gen.flow_from_directory(\n",
        "        '/content/drive/MyDrive/data/test',\n",
        "        target_size=(64, 64),\n",
        "        batch_size=32,\n",
        "        color_mode=\"rgb\",\n",
        "        class_mode='binary')\n",
        "\n",
        "# do prediction on test data\n",
        "predictions = emotion_model.predict_generator(test_generator)\n",
        "\n",
        "# see predictions\n",
        "# for result in predictions:\n",
        "#     max_index = int(np.argmax(result))\n",
        "#     print(emotion_dict[max_index])\n",
        "\n",
        "print(\"-----------------------------------------------------------------\")\n",
        "# confusion matrix\n",
        "c_matrix = confusion_matrix(test_generator.classes, predictions.argmax(axis=1))\n",
        "print(c_matrix)\n",
        "cm_display = ConfusionMatrixDisplay(confusion_matrix=c_matrix, display_labels=emotion_dict)\n",
        "cm_display.plot(cmap=plt.cm.Blues)\n",
        "plt.show()\n",
        "\n",
        "# Classification report\n",
        "print(\"-----------------------------------------------------------------\")\n",
        "print(classification_report(test_generator.classes, predictions.argmax(axis=1)))\n",
        "\n",
        "\n",
        "\n"
      ]
    },
    {
      "cell_type": "code",
      "execution_count": null,
      "metadata": {
        "colab": {
          "base_uri": "https://localhost:8080/",
          "height": 345
        },
        "id": "ZgjxfobzzVNB",
        "outputId": "394709f1-c31a-41bd-dd1f-ab2677407fad"
      },
      "outputs": [],
      "source": [
        "from tensorflow.keras.models import load_model\n",
        "\n",
        "# load model\n",
        "model = load_model('seatbelt.h5')"
      ]
    },
    {
      "cell_type": "code",
      "execution_count": null,
      "metadata": {
        "id": "-G7-61dERQGk"
      },
      "outputs": [],
      "source": [
        "\n",
        "model.summary()"
      ]
    },
    {
      "cell_type": "code",
      "execution_count": null,
      "metadata": {
        "id": "rZ8l9NLKRtxE"
      },
      "outputs": [],
      "source": [
        "# Part 4 - Making a single prediction\n",
        "\n",
        "import numpy as np\n",
        "from tensorflow.keras.preprocessing import image\n",
        "test_image = image.load_img('/content/drive/MyDrive/data/test/no seatbelt/young-woman-driving-a-car-elegant-business-lady-driving-an-expensive-car.jpg', target_size = (64,64))\n",
        "test_image = image.img_to_array(test_image)\n",
        "test_image=test_image/255\n",
        "test_image = np.expand_dims(test_image, axis = 0)\n",
        "result = cnn.predict(test_image)"
      ]
    },
    {
      "cell_type": "code",
      "execution_count": null,
      "metadata": {
        "id": "niZ3s008SSPN"
      },
      "outputs": [],
      "source": [
        "result"
      ]
    },
    {
      "cell_type": "code",
      "execution_count": null,
      "metadata": {
        "id": "qFqMrUev7J5E"
      },
      "outputs": [],
      "source": [
        "if result[0]<0:\n",
        "    print(\"The image classified is no seat belt\")\n",
        "else:\n",
        "    print(\"The image classified is with seat belt\")"
      ]
    },
    {
      "cell_type": "code",
      "execution_count": null,
      "metadata": {
        "id": "JKTt7nNTzrKf"
      },
      "outputs": [],
      "source": [
        "# Part 4 - Making a single prediction\n",
        "\n",
        "import numpy as np\n",
        "from tensorflow.keras.preprocessing import image\n",
        "test_image = image.load_img('/content/drive/MyDrive/data/test/seat_belt/221JBW5TMVMO.jpg', target_size = (64,64))\n",
        "test_image = image.img_to_array(test_image)\n",
        "test_image=test_image/255\n",
        "test_image = np.expand_dims(test_image, axis = 0)\n",
        "result = cnn.predict(test_image)"
      ]
    },
    {
      "cell_type": "code",
      "execution_count": null,
      "metadata": {
        "id": "94Al55rhz9-R"
      },
      "outputs": [],
      "source": [
        "result"
      ]
    },
    {
      "cell_type": "code",
      "execution_count": null,
      "metadata": {
        "id": "5UiszmZx0Ch0"
      },
      "outputs": [],
      "source": [
        "if result[0]<0:\n",
        "    print(\"The image classified is no seat belt\")\n",
        "else:\n",
        "    print(\"The image classified is with seat belt\")"
      ]
    },
    {
      "cell_type": "code",
      "execution_count": null,
      "metadata": {
        "id": "Ex1cMx_uZj3o"
      },
      "outputs": [],
      "source": []
    }
  ],
  "metadata": {
    "colab": {
      "provenance": []
    },
    "kernelspec": {
      "display_name": "Python 3",
      "name": "python3"
    },
    "language_info": {
      "name": "python"
    }
  },
  "nbformat": 4,
  "nbformat_minor": 0
}
